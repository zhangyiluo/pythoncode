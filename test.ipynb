{
  "nbformat": 4,
  "nbformat_minor": 0,
  "metadata": {
    "colab": {
      "name": "test.ipynb",
      "provenance": [],
      "collapsed_sections": [],
      "toc_visible": true,
      "include_colab_link": true
    },
    "kernelspec": {
      "name": "python3",
      "display_name": "Python 3"
    }
  },
  "cells": [
    {
      "cell_type": "markdown",
      "metadata": {
        "id": "view-in-github",
        "colab_type": "text"
      },
      "source": [
        "<a href=\"https://colab.research.google.com/github/zhangyiluo/pythoncode/blob/master/test.ipynb\" target=\"_parent\"><img src=\"https://colab.research.google.com/assets/colab-badge.svg\" alt=\"Open In Colab\"/></a>"
      ]
    },
    {
      "cell_type": "markdown",
      "metadata": {
        "id": "OUobFnksyCVv"
      },
      "source": [
        "#Python 之禅"
      ]
    },
    {
      "cell_type": "code",
      "metadata": {
        "id": "LoR_hbt0wXXV"
      },
      "source": [
        "import this # 显示的正是python之禅"
      ],
      "execution_count": null,
      "outputs": []
    },
    {
      "cell_type": "markdown",
      "metadata": {
        "id": "t-ZDQrKX_Rqj"
      },
      "source": [
        "#好习惯\n",
        "在交互模式中，用 help()和dir() 是一个很好的习惯，得到帮助信息。不需要记忆。\n",
        "只要会用搜索即可。\n",
        "\n",
        "比如查语法，help()第四行会指引到官网手册上。太多新特性了，要知道去查的路径。"
      ]
    },
    {
      "cell_type": "code",
      "metadata": {
        "id": "CsG2u_S9RU9I"
      },
      "source": [
        "help()"
      ],
      "execution_count": null,
      "outputs": []
    },
    {
      "cell_type": "markdown",
      "metadata": {
        "id": "uHaGrJM6XKE0"
      },
      "source": [
        "#爬虫例子1\n",
        "BeautifulSoup库帮助读取网页，完成正侧表达式匹配后。这已经不行了。会被提示拒绝。对方的网站反爬虫了。"
      ]
    },
    {
      "cell_type": "code",
      "metadata": {
        "id": "hK6btClfKyvo",
        "colab": {
          "base_uri": "https://localhost:8080/",
          "height": 394
        },
        "outputId": "0a2bb5c5-6224-4721-8cc1-5dae71c7b73e"
      },
      "source": [
        "from bs4 import BeautifulSoup \n",
        "import urllib.request\n",
        "import re\n",
        "\n",
        "url8 = urllib.request.urlopen(\"http://www.dapenti.com/blog/more.asp?name=xilei&id=142672 \")#130309\n",
        "html = url8.read()                      #对象要读出来\n",
        "soup = BeautifulSoup(html)              #用soup装载html，树分析就好做了。\n",
        "print(soup.prettify())\n",
        "pid = soup.findAll('p')                    #所有含有p标签tag\n",
        "\n",
        "pattern = re.compile(r\"\\s+【\\d+】\")     # 模板规则是 前面空格多【数字多】 规则写得不好，有遗漏的。\n",
        "\n",
        "for i in pid:\n",
        "    string_ = str(i.string)\n",
        "    result1 = re.match(pattern,string_)\n",
        "    if result1:\n",
        "        print (string_)\n",
        "    else:\n",
        "        pass\n"
      ],
      "execution_count": null,
      "outputs": [
        {
          "output_type": "error",
          "ename": "HTTPError",
          "evalue": "ignored",
          "traceback": [
            "\u001b[0;31m---------------------------------------------------------------------------\u001b[0m",
            "\u001b[0;31mHTTPError\u001b[0m                                 Traceback (most recent call last)",
            "\u001b[0;32m<ipython-input-1-f473cf2a0e5f>\u001b[0m in \u001b[0;36m<module>\u001b[0;34m()\u001b[0m\n\u001b[1;32m      3\u001b[0m \u001b[0;32mimport\u001b[0m \u001b[0mre\u001b[0m\u001b[0;34m\u001b[0m\u001b[0;34m\u001b[0m\u001b[0m\n\u001b[1;32m      4\u001b[0m \u001b[0;34m\u001b[0m\u001b[0m\n\u001b[0;32m----> 5\u001b[0;31m \u001b[0murl8\u001b[0m \u001b[0;34m=\u001b[0m \u001b[0murllib\u001b[0m\u001b[0;34m.\u001b[0m\u001b[0mrequest\u001b[0m\u001b[0;34m.\u001b[0m\u001b[0murlopen\u001b[0m\u001b[0;34m(\u001b[0m\u001b[0;34m\"http://www.dapenti.com/blog/more.asp?name=xilei&id=142672 \"\u001b[0m\u001b[0;34m)\u001b[0m\u001b[0;31m#130309\u001b[0m\u001b[0;34m\u001b[0m\u001b[0;34m\u001b[0m\u001b[0m\n\u001b[0m\u001b[1;32m      6\u001b[0m \u001b[0mhtml\u001b[0m \u001b[0;34m=\u001b[0m \u001b[0murl8\u001b[0m\u001b[0;34m.\u001b[0m\u001b[0mread\u001b[0m\u001b[0;34m(\u001b[0m\u001b[0;34m)\u001b[0m                      \u001b[0;31m#对象要读出来\u001b[0m\u001b[0;34m\u001b[0m\u001b[0;34m\u001b[0m\u001b[0m\n\u001b[1;32m      7\u001b[0m \u001b[0msoup\u001b[0m \u001b[0;34m=\u001b[0m \u001b[0mBeautifulSoup\u001b[0m\u001b[0;34m(\u001b[0m\u001b[0mhtml\u001b[0m\u001b[0;34m)\u001b[0m              \u001b[0;31m#用soup装载html，树分析就好做了。\u001b[0m\u001b[0;34m\u001b[0m\u001b[0;34m\u001b[0m\u001b[0m\n",
            "\u001b[0;32m/usr/lib/python3.7/urllib/request.py\u001b[0m in \u001b[0;36murlopen\u001b[0;34m(url, data, timeout, cafile, capath, cadefault, context)\u001b[0m\n\u001b[1;32m    220\u001b[0m     \u001b[0;32melse\u001b[0m\u001b[0;34m:\u001b[0m\u001b[0;34m\u001b[0m\u001b[0;34m\u001b[0m\u001b[0m\n\u001b[1;32m    221\u001b[0m         \u001b[0mopener\u001b[0m \u001b[0;34m=\u001b[0m \u001b[0m_opener\u001b[0m\u001b[0;34m\u001b[0m\u001b[0;34m\u001b[0m\u001b[0m\n\u001b[0;32m--> 222\u001b[0;31m     \u001b[0;32mreturn\u001b[0m \u001b[0mopener\u001b[0m\u001b[0;34m.\u001b[0m\u001b[0mopen\u001b[0m\u001b[0;34m(\u001b[0m\u001b[0murl\u001b[0m\u001b[0;34m,\u001b[0m \u001b[0mdata\u001b[0m\u001b[0;34m,\u001b[0m \u001b[0mtimeout\u001b[0m\u001b[0;34m)\u001b[0m\u001b[0;34m\u001b[0m\u001b[0;34m\u001b[0m\u001b[0m\n\u001b[0m\u001b[1;32m    223\u001b[0m \u001b[0;34m\u001b[0m\u001b[0m\n\u001b[1;32m    224\u001b[0m \u001b[0;32mdef\u001b[0m \u001b[0minstall_opener\u001b[0m\u001b[0;34m(\u001b[0m\u001b[0mopener\u001b[0m\u001b[0;34m)\u001b[0m\u001b[0;34m:\u001b[0m\u001b[0;34m\u001b[0m\u001b[0;34m\u001b[0m\u001b[0m\n",
            "\u001b[0;32m/usr/lib/python3.7/urllib/request.py\u001b[0m in \u001b[0;36mopen\u001b[0;34m(self, fullurl, data, timeout)\u001b[0m\n\u001b[1;32m    529\u001b[0m         \u001b[0;32mfor\u001b[0m \u001b[0mprocessor\u001b[0m \u001b[0;32min\u001b[0m \u001b[0mself\u001b[0m\u001b[0;34m.\u001b[0m\u001b[0mprocess_response\u001b[0m\u001b[0;34m.\u001b[0m\u001b[0mget\u001b[0m\u001b[0;34m(\u001b[0m\u001b[0mprotocol\u001b[0m\u001b[0;34m,\u001b[0m \u001b[0;34m[\u001b[0m\u001b[0;34m]\u001b[0m\u001b[0;34m)\u001b[0m\u001b[0;34m:\u001b[0m\u001b[0;34m\u001b[0m\u001b[0;34m\u001b[0m\u001b[0m\n\u001b[1;32m    530\u001b[0m             \u001b[0mmeth\u001b[0m \u001b[0;34m=\u001b[0m \u001b[0mgetattr\u001b[0m\u001b[0;34m(\u001b[0m\u001b[0mprocessor\u001b[0m\u001b[0;34m,\u001b[0m \u001b[0mmeth_name\u001b[0m\u001b[0;34m)\u001b[0m\u001b[0;34m\u001b[0m\u001b[0;34m\u001b[0m\u001b[0m\n\u001b[0;32m--> 531\u001b[0;31m             \u001b[0mresponse\u001b[0m \u001b[0;34m=\u001b[0m \u001b[0mmeth\u001b[0m\u001b[0;34m(\u001b[0m\u001b[0mreq\u001b[0m\u001b[0;34m,\u001b[0m \u001b[0mresponse\u001b[0m\u001b[0;34m)\u001b[0m\u001b[0;34m\u001b[0m\u001b[0;34m\u001b[0m\u001b[0m\n\u001b[0m\u001b[1;32m    532\u001b[0m \u001b[0;34m\u001b[0m\u001b[0m\n\u001b[1;32m    533\u001b[0m         \u001b[0;32mreturn\u001b[0m \u001b[0mresponse\u001b[0m\u001b[0;34m\u001b[0m\u001b[0;34m\u001b[0m\u001b[0m\n",
            "\u001b[0;32m/usr/lib/python3.7/urllib/request.py\u001b[0m in \u001b[0;36mhttp_response\u001b[0;34m(self, request, response)\u001b[0m\n\u001b[1;32m    639\u001b[0m         \u001b[0;32mif\u001b[0m \u001b[0;32mnot\u001b[0m \u001b[0;34m(\u001b[0m\u001b[0;36m200\u001b[0m \u001b[0;34m<=\u001b[0m \u001b[0mcode\u001b[0m \u001b[0;34m<\u001b[0m \u001b[0;36m300\u001b[0m\u001b[0;34m)\u001b[0m\u001b[0;34m:\u001b[0m\u001b[0;34m\u001b[0m\u001b[0;34m\u001b[0m\u001b[0m\n\u001b[1;32m    640\u001b[0m             response = self.parent.error(\n\u001b[0;32m--> 641\u001b[0;31m                 'http', request, response, code, msg, hdrs)\n\u001b[0m\u001b[1;32m    642\u001b[0m \u001b[0;34m\u001b[0m\u001b[0m\n\u001b[1;32m    643\u001b[0m         \u001b[0;32mreturn\u001b[0m \u001b[0mresponse\u001b[0m\u001b[0;34m\u001b[0m\u001b[0;34m\u001b[0m\u001b[0m\n",
            "\u001b[0;32m/usr/lib/python3.7/urllib/request.py\u001b[0m in \u001b[0;36merror\u001b[0;34m(self, proto, *args)\u001b[0m\n\u001b[1;32m    567\u001b[0m         \u001b[0;32mif\u001b[0m \u001b[0mhttp_err\u001b[0m\u001b[0;34m:\u001b[0m\u001b[0;34m\u001b[0m\u001b[0;34m\u001b[0m\u001b[0m\n\u001b[1;32m    568\u001b[0m             \u001b[0margs\u001b[0m \u001b[0;34m=\u001b[0m \u001b[0;34m(\u001b[0m\u001b[0mdict\u001b[0m\u001b[0;34m,\u001b[0m \u001b[0;34m'default'\u001b[0m\u001b[0;34m,\u001b[0m \u001b[0;34m'http_error_default'\u001b[0m\u001b[0;34m)\u001b[0m \u001b[0;34m+\u001b[0m \u001b[0morig_args\u001b[0m\u001b[0;34m\u001b[0m\u001b[0;34m\u001b[0m\u001b[0m\n\u001b[0;32m--> 569\u001b[0;31m             \u001b[0;32mreturn\u001b[0m \u001b[0mself\u001b[0m\u001b[0;34m.\u001b[0m\u001b[0m_call_chain\u001b[0m\u001b[0;34m(\u001b[0m\u001b[0;34m*\u001b[0m\u001b[0margs\u001b[0m\u001b[0;34m)\u001b[0m\u001b[0;34m\u001b[0m\u001b[0;34m\u001b[0m\u001b[0m\n\u001b[0m\u001b[1;32m    570\u001b[0m \u001b[0;34m\u001b[0m\u001b[0m\n\u001b[1;32m    571\u001b[0m \u001b[0;31m# XXX probably also want an abstract factory that knows when it makes\u001b[0m\u001b[0;34m\u001b[0m\u001b[0;34m\u001b[0m\u001b[0;34m\u001b[0m\u001b[0m\n",
            "\u001b[0;32m/usr/lib/python3.7/urllib/request.py\u001b[0m in \u001b[0;36m_call_chain\u001b[0;34m(self, chain, kind, meth_name, *args)\u001b[0m\n\u001b[1;32m    501\u001b[0m         \u001b[0;32mfor\u001b[0m \u001b[0mhandler\u001b[0m \u001b[0;32min\u001b[0m \u001b[0mhandlers\u001b[0m\u001b[0;34m:\u001b[0m\u001b[0;34m\u001b[0m\u001b[0;34m\u001b[0m\u001b[0m\n\u001b[1;32m    502\u001b[0m             \u001b[0mfunc\u001b[0m \u001b[0;34m=\u001b[0m \u001b[0mgetattr\u001b[0m\u001b[0;34m(\u001b[0m\u001b[0mhandler\u001b[0m\u001b[0;34m,\u001b[0m \u001b[0mmeth_name\u001b[0m\u001b[0;34m)\u001b[0m\u001b[0;34m\u001b[0m\u001b[0;34m\u001b[0m\u001b[0m\n\u001b[0;32m--> 503\u001b[0;31m             \u001b[0mresult\u001b[0m \u001b[0;34m=\u001b[0m \u001b[0mfunc\u001b[0m\u001b[0;34m(\u001b[0m\u001b[0;34m*\u001b[0m\u001b[0margs\u001b[0m\u001b[0;34m)\u001b[0m\u001b[0;34m\u001b[0m\u001b[0;34m\u001b[0m\u001b[0m\n\u001b[0m\u001b[1;32m    504\u001b[0m             \u001b[0;32mif\u001b[0m \u001b[0mresult\u001b[0m \u001b[0;32mis\u001b[0m \u001b[0;32mnot\u001b[0m \u001b[0;32mNone\u001b[0m\u001b[0;34m:\u001b[0m\u001b[0;34m\u001b[0m\u001b[0;34m\u001b[0m\u001b[0m\n\u001b[1;32m    505\u001b[0m                 \u001b[0;32mreturn\u001b[0m \u001b[0mresult\u001b[0m\u001b[0;34m\u001b[0m\u001b[0;34m\u001b[0m\u001b[0m\n",
            "\u001b[0;32m/usr/lib/python3.7/urllib/request.py\u001b[0m in \u001b[0;36mhttp_error_default\u001b[0;34m(self, req, fp, code, msg, hdrs)\u001b[0m\n\u001b[1;32m    647\u001b[0m \u001b[0;32mclass\u001b[0m \u001b[0mHTTPDefaultErrorHandler\u001b[0m\u001b[0;34m(\u001b[0m\u001b[0mBaseHandler\u001b[0m\u001b[0;34m)\u001b[0m\u001b[0;34m:\u001b[0m\u001b[0;34m\u001b[0m\u001b[0;34m\u001b[0m\u001b[0m\n\u001b[1;32m    648\u001b[0m     \u001b[0;32mdef\u001b[0m \u001b[0mhttp_error_default\u001b[0m\u001b[0;34m(\u001b[0m\u001b[0mself\u001b[0m\u001b[0;34m,\u001b[0m \u001b[0mreq\u001b[0m\u001b[0;34m,\u001b[0m \u001b[0mfp\u001b[0m\u001b[0;34m,\u001b[0m \u001b[0mcode\u001b[0m\u001b[0;34m,\u001b[0m \u001b[0mmsg\u001b[0m\u001b[0;34m,\u001b[0m \u001b[0mhdrs\u001b[0m\u001b[0;34m)\u001b[0m\u001b[0;34m:\u001b[0m\u001b[0;34m\u001b[0m\u001b[0;34m\u001b[0m\u001b[0m\n\u001b[0;32m--> 649\u001b[0;31m         \u001b[0;32mraise\u001b[0m \u001b[0mHTTPError\u001b[0m\u001b[0;34m(\u001b[0m\u001b[0mreq\u001b[0m\u001b[0;34m.\u001b[0m\u001b[0mfull_url\u001b[0m\u001b[0;34m,\u001b[0m \u001b[0mcode\u001b[0m\u001b[0;34m,\u001b[0m \u001b[0mmsg\u001b[0m\u001b[0;34m,\u001b[0m \u001b[0mhdrs\u001b[0m\u001b[0;34m,\u001b[0m \u001b[0mfp\u001b[0m\u001b[0;34m)\u001b[0m\u001b[0;34m\u001b[0m\u001b[0;34m\u001b[0m\u001b[0m\n\u001b[0m\u001b[1;32m    650\u001b[0m \u001b[0;34m\u001b[0m\u001b[0m\n\u001b[1;32m    651\u001b[0m \u001b[0;32mclass\u001b[0m \u001b[0mHTTPRedirectHandler\u001b[0m\u001b[0;34m(\u001b[0m\u001b[0mBaseHandler\u001b[0m\u001b[0;34m)\u001b[0m\u001b[0;34m:\u001b[0m\u001b[0;34m\u001b[0m\u001b[0;34m\u001b[0m\u001b[0m\n",
            "\u001b[0;31mHTTPError\u001b[0m: HTTP Error 403: Forbidden"
          ]
        }
      ]
    },
    {
      "cell_type": "markdown",
      "metadata": {
        "id": "qFYF1BY4YbKP"
      },
      "source": [
        "#爬虫例子2\n",
        "将维基百科Main页的链接全部“爬”出来，够神奇了吧？"
      ]
    },
    {
      "cell_type": "code",
      "metadata": {
        "id": "kdAIDUzPd0x4"
      },
      "source": [
        "#!/usr/bin/python3\n",
        "# Anchor extraction from html document\n",
        "from bs4 import BeautifulSoup\n",
        "from urllib.request import urlopen\n",
        "\n",
        "with urlopen('https://en.wikipedia.org/wiki/Main_Page') as response:\n",
        "    soup = BeautifulSoup(response, 'html.parser')\n",
        "    for anchor in soup.find_all('a'):\n",
        "        print(anchor.get('href', '/'))"
      ],
      "execution_count": null,
      "outputs": []
    },
    {
      "cell_type": "markdown",
      "metadata": {
        "id": "CP7EHoBcYoiF"
      },
      "source": [
        "#爬虫例子3\n",
        "借助了PD库，将经济网的表格逐个爬出来写入到csv格式文件。\n",
        "\n",
        "pd.read_html(url)似乎和urllib.request.urlopen()异曲同工，本例中是读表格。"
      ]
    },
    {
      "cell_type": "code",
      "metadata": {
        "id": "3IvRPnfSTfGU"
      },
      "source": [
        "import pandas as pd\n",
        "import csv\n",
        "\n",
        "for i in range(1,178):  # 爬取全部177页数据\n",
        "    url = 'http://s.askci.com/stock/a/?reportTime=2017-12-31&pageNum=%s' % (str(i))\n",
        "    tb = pd.read_html(url)[3] #经观察发现所需表格是网页中第4个表格，故为[3]\n",
        "    tb.to_csv(r'1.csv', mode='a', encoding='utf_8_sig', header=1, index=0)\n",
        "    print('第'+str(i)+'页抓取完成')\n"
      ],
      "execution_count": null,
      "outputs": []
    },
    {
      "cell_type": "markdown",
      "metadata": {
        "id": "awmbrughXUNk"
      },
      "source": [
        "# 新段落"
      ]
    },
    {
      "cell_type": "code",
      "metadata": {
        "id": "XXbOsxuq_lfE",
        "outputId": "30923dd5-1d11-4526-ffb5-522bf1dea054",
        "colab": {
          "base_uri": "https://localhost:8080/"
        }
      },
      "source": [
        "a = {\"a\":\"1\",\"b\":2,\"c\":33}\n",
        "del a[\"a\"]\n",
        "a.items()#输出dict_items([('b', 2), ('c', 33)])\n",
        "list(a)#输出['b', 'c']\n",
        "a.keys()#输出['b', 'c']\n",
        "a.values()#输出dict_values([2, 33])"
      ],
      "execution_count": null,
      "outputs": [
        {
          "output_type": "execute_result",
          "data": {
            "text/plain": [
              "dict_values([2, 33])"
            ]
          },
          "metadata": {},
          "execution_count": 3
        }
      ]
    },
    {
      "cell_type": "markdown",
      "metadata": {
        "id": "sSWOVuqjWb_I"
      },
      "source": [
        "查函数对象dir(str);函数方法列表help(str),具体函数的方法help(str.find)\n",
        "得到对象指针id(lang),得到对象类型type(lang)\n",
        "比较cmp(str1, str2)，ord(\"F\"),相反是chr(a),"
      ]
    },
    {
      "cell_type": "markdown",
      "metadata": {
        "id": "o2WMVz7kYHtu"
      },
      "source": [
        "内建函数 abs()\tdivmod()\tinput()\topen()\tstaticmethod()\n",
        "all()\tenumerate()\tint()\tord()\tstr()\n",
        "any()\teval()\tisinstance()\tpow()\tsum()\n",
        "basestring()\texecfile()\tissubclass()\tprint()\tsuper()\n",
        "bin()\tfile()\titer()\tproperty()\ttuple()\n",
        "bool()\tfilter()\tlen()\trange()\ttype()\n",
        "bytearray()\tfloat()\tlist()\traw_input()\tunichr()\n",
        "callable()\tformat()\tlocals()\treduce()\tunicode()\n",
        "chr()\tfrozenset()\tlong()\treload()\tvars()\n",
        "classmethod()\tgetattr()\tmap()\trepr()\txrange()\n",
        "cmp()\tglobals()\tmax()\treversed()\tzip()\n",
        "compile()\thasattr()\tmemoryview()\tround()\timport()\n",
        "complex()\thash()\tmin()\tset()\tapply()\n",
        "delattr()\thelp()\tnext()\tsetattr()\tbuffer()\n",
        "dict()\thex()\tobject()\tslice()\tcoerce()\n",
        "dir()\tid()\toct()\tsorted()\tintern()"
      ]
    },
    {
      "cell_type": "code",
      "metadata": {
        "id": "I3MhNR9Obxs8",
        "outputId": "92cc56c3-6cf8-4bc2-8a4d-6789a7475c7f",
        "colab": {
          "base_uri": "https://localhost:8080/"
        }
      },
      "source": [
        "S=\"study Python\" \n",
        "mystr = S.capitalize()#首字母大写,其余小写 输出Study python，但S.title()就改变每一个单词\n",
        "mystr = S.casefold()#全部小写 输出study python\n",
        "mystr = S.center(30,'-')#用制定的字符塞长度，比如三十格子塞-号 输出---------study Python---------\n",
        "mystr = S.count('t')#出现t次数 输出2\n",
        "mystr = S.encode(encoding='utf-8',errors='strict')#格式输出b'study Python'\n",
        "mystr = S.endswith(('n','o'))#验证后缀，输出True\n",
        "\n",
        "print(mystr)\n",
        "mystr = S.strip('st') #默认头尾去空格。若带参数S.strip('st')头尾去st，输出udy Python\n",
        "mystr = S.swapcase() #默认颠倒大小写\n",
        "mystr = S.title()#改变每一个单词第一个字母大写，输出Study Python\n",
        "\n",
        "\n",
        "\n"
      ],
      "execution_count": null,
      "outputs": [
        {
          "output_type": "stream",
          "name": "stdout",
          "text": [
            "True\n"
          ]
        }
      ]
    },
    {
      "cell_type": "code",
      "metadata": {
        "id": "21GRkpyvOiK4"
      },
      "source": [
        "a = ['a','bb','ddd']\n",
        "b = ['c','ddb','f']\n",
        "c= 'sbd'\n",
        "a.extend(b)\n",
        "hasattr(a,'__iter__')\n",
        "a.append(c)\n",
        "a.extend(c)\n",
        "print(a)\n",
        "\n"
      ],
      "execution_count": null,
      "outputs": []
    },
    {
      "cell_type": "markdown",
      "metadata": {
        "id": "ABOAay6eZDp2"
      },
      "source": [
        "#加密专题\n",
        "字符串对象的translate()和maketrans()两个函数互相帮助，可以实现26个字母对称加密。"
      ]
    },
    {
      "cell_type": "code",
      "metadata": {
        "id": "Ltb-07STnhvn"
      },
      "source": [
        "# 专题试用函数translate()\n",
        "intab = \"abcdefghijklmnopqrstuvwxyz\"\n",
        "outtab = \"mnopqrstuvwxyzabcdefghijkl\"\n",
        "s = \"hello I stydfds \"\n",
        "transtab = str.maketrans(intab,outtab)\n",
        "my = s.translate(transtab)\n",
        "print(my)"
      ],
      "execution_count": null,
      "outputs": []
    },
    {
      "cell_type": "markdown",
      "metadata": {
        "id": "X3GldT5hiF9z"
      },
      "source": [
        "#Math库\n"
      ]
    },
    {
      "cell_type": "code",
      "metadata": {
        "id": "ddd09NYVhQlu"
      },
      "source": [
        "import math\n",
        "from math import pow\n",
        "pow(10,3)"
      ],
      "execution_count": null,
      "outputs": []
    },
    {
      "cell_type": "code",
      "metadata": {
        "id": "RG2R9gLwhXWZ"
      },
      "source": [
        ""
      ],
      "execution_count": null,
      "outputs": []
    },
    {
      "cell_type": "markdown",
      "metadata": {
        "id": "RHPmpo6RhYvd"
      },
      "source": [
        "#切片专题\n",
        "字符串切片的操作方法"
      ]
    },
    {
      "cell_type": "code",
      "metadata": {
        "id": "b0CJasobUHLy"
      },
      "source": [
        "lang = \"study Python\"\n",
        "lang[0]#得到第一个字符s 输出s\n",
        "lang[0:4]#得到前面0位到4位之前的那个字符 输出stud\n",
        "lang[:]#得到全部 输出study Python\n",
        "lang[:4]#得到前面0位到4位之前的那个字符 输出stud\n",
        "id(lang)"
      ],
      "execution_count": null,
      "outputs": []
    },
    {
      "cell_type": "code",
      "metadata": {
        "id": "Yrsch4pFqTRr"
      },
      "source": [
        "!pip install -q matplotlib"
      ],
      "execution_count": null,
      "outputs": []
    },
    {
      "cell_type": "code",
      "metadata": {
        "id": "nuj7CFhojZ7q"
      },
      "source": [
        "import datetime\n",
        "from matplotlib import mpl_finance ,mlab\n",
        "import numpy as np\n",
        "\n",
        "def load_data(code, start_date, end_date ):\n",
        "    fh = mpl_finance.fetch_historical_yahoo(code, start_date, end_date)\n",
        "    data = mlab.csv2rec(fh)\n",
        "    fh.close()\n",
        "    print(data)\n",
        "    "
      ],
      "execution_count": null,
      "outputs": []
    },
    {
      "cell_type": "code",
      "metadata": {
        "id": "ZMVrmsopR88N"
      },
      "source": [
        "\"faf\"+\"fadsfads\" #字符串组合"
      ],
      "execution_count": null,
      "outputs": []
    },
    {
      "cell_type": "code",
      "metadata": {
        "id": "_pVdGtE4tYYf"
      },
      "source": [
        "print(\"{:,}\".format(123456))#输出1234,56\n",
        "\n",
        "print(\"{a:w^8}\".format(a=\"8\"))#输出www8wwww,填充w\n",
        "\n",
        "print(\"%.5f\" %5)#输出5.000000\n",
        "\n",
        "print(\"%-7s3\" %(\"python\"))#输出python 3\n",
        "\n",
        "print(\"%.3e\" %2016)#输出2.016e+03,也可以写大E\n",
        "\n",
        "print(\"%d %s\" %(123456,\"myblog\"))#输出123456 myblog\n",
        "\n",
        "print(\"%(what)s is %(year)d\" % {\"what\":\"this year\",\"year\":2019})#输出this year is 2019\n",
        "\n",
        "print(\"{0}{1}\".format(\"hello\",\"fun\"))#输出hellofun,这与CSharp的格式化字符(占位符)相似\n",
        "\n",
        "print(\"{}{}{}\".format(\"spkk\",\".\",\"cn\"))#输出spkk.cn\n",
        "\n",
        "print(\"{a[0]}{a[1]}{a[2]}\".format(a=[\"spkk\",\".\",\"cn\"]))#输出spkk.cn\n",
        "\n",
        "print(\"{dict[host]}{dict[dot]}{dict[domain]}\".format(dict={\"host\":\"www\",\"domain\":\"spkk.cn\",\"dot\":\".\"}))#输出www.spkk.cn\n",
        "\n",
        "print(\"{a}{b}\".format(a=\"python\",b=\"3\"))#输出python3\n",
        "\n",
        "print(\"{who} {doing} {0}\".format(\"python\",doing=\"like\",who=\"I\"))#输出I like python"
      ],
      "execution_count": null,
      "outputs": []
    },
    {
      "cell_type": "markdown",
      "metadata": {
        "id": "_jdABBgGkA0F"
      },
      "source": [
        "用range()打印1到5的循环"
      ]
    },
    {
      "cell_type": "code",
      "metadata": {
        "id": "fJFWaOnjkWTE"
      },
      "source": [
        "for i in range(1,11,2):\n",
        "     print(i,end=',')#help(print)"
      ],
      "execution_count": null,
      "outputs": []
    },
    {
      "cell_type": "markdown",
      "metadata": {
        "id": "LEq-Iyiunqfp"
      },
      "source": [
        "打印九九表"
      ]
    },
    {
      "cell_type": "code",
      "metadata": {
        "id": "sM1ym7VXnvgH"
      },
      "source": [
        "def first_demo():\n",
        "  for i in range(1,10):\n",
        "    for j in range(1,10):\n",
        "      print(\"%d X %d = %d\" % (i,j,i*j))\n",
        "    print()\n",
        "\n",
        "def second_demo():\n",
        "  for i in range(1,20+1):\n",
        "    for j in range(1,i+1):\n",
        "      print(\"%d X %d = %d\" % (i,j,i*j),end=' ')\n",
        "    print()\n",
        "    \n",
        "first_demo()    "
      ],
      "execution_count": null,
      "outputs": []
    },
    {
      "cell_type": "code",
      "metadata": {
        "id": "yAHf_Gjs_8Kg"
      },
      "source": [
        "#!pip install -q qrcode\n",
        "import qrcode\n",
        "\n",
        "def first_demo():\n",
        "    qr = qrcode.make('Hello World')\n",
        "    qr.get_image().show()\n",
        "    \n",
        "def second_demo():\n",
        "    text = 'suppot chinese'\n",
        "    img = qrcode.make(text)\n",
        "    img.save('qr.png')\n",
        "    img.show()\n",
        "    \n",
        "second_demo()"
      ],
      "execution_count": null,
      "outputs": []
    },
    {
      "cell_type": "markdown",
      "metadata": {
        "id": "9mNt7sEykzNI"
      },
      "source": [
        "#二维码生成和读取\n",
        "用的QRCODE库帮助。"
      ]
    },
    {
      "cell_type": "code",
      "metadata": {
        "id": "Ty0VYtVofAYv"
      },
      "source": [
        "#关于二维码编程的文章\n",
        "#参考文章编程文章https://mp.weixin.qq.com/s/R4_xjs9SLewg3tDTmuxRug\n",
        "#!pip install -q qrcode\n",
        "from PIL import Image\n",
        "import qrcode\n",
        "\n",
        "def create_icon_qrcode():\n",
        "    qr = qrcode.QRCode(\n",
        "        # 二维码size尺寸大小。官方称为version\n",
        "        version=1,\n",
        "        # 二维码错误处理级别，有四种方式，稍后给出解释\n",
        "        error_correction=qrcode.constants.ERROR_CORRECT_H,\n",
        "        # 二维码图片的大小\n",
        "        box_size=10,\n",
        "        # 二维码白色边框的大小\n",
        "        border=2\n",
        "    )\n",
        "\n",
        "    # 添加数据\n",
        "    qr.add_data('你见到我，就成功了')\n",
        "    # 填充数据\n",
        "    qr.make(fit=True)\n",
        "    # 生成二维码图片        指定填充颜色        指定背景颜色\n",
        "    img = qr.make_image(fill_color='grey',back_color='white')\n",
        "\n",
        "    # 得到生成的二维码图片的宽，高\n",
        "    img_w,img_h = img.size\n",
        "\n",
        "    # 添加图片到二维码中\n",
        "    # 使用pillow的Image打开图片\n",
        "    icon = Image.open('70px-Dialog-information_on.svg.webp')\n",
        "\n",
        "    # 设置icon的大小,为二维码图片大小的6分之一\n",
        "    factor = 3\n",
        "    size_w = img_w // factor\n",
        "    size_h = img_h // factor\n",
        "\n",
        "    # 得到icon图片的大小\n",
        "    icon_w,icon_h = icon.size\n",
        "\n",
        "    # 只有当我们icon图片的大小超过了二维码图片的3分之一的时候，才对icon图片大小重新定义大小。\n",
        "    if icon_w > size_w:\n",
        "        icon_w = size_w\n",
        "    if icon_h > size_h:\n",
        "        icon_h = size_h\n",
        "\n",
        "    # 重新设置icon的尺寸\n",
        "    icon = icon.resize((icon_w,icon_h),Image.ANTIALIAS)\n",
        "    # 得到在二维码中显示的位置，坐标。\n",
        "    w =  (img_w - icon_w) // 2\n",
        "    h =  (img_h - icon_h) // 2\n",
        "\n",
        "    img.paste(icon,(w,h),mask=None)\n",
        "    img.save('girl.png')\n",
        "    \n",
        "create_icon_qrcode()"
      ],
      "execution_count": null,
      "outputs": []
    },
    {
      "cell_type": "markdown",
      "metadata": {
        "id": "LhPWfyPq-e3X"
      },
      "source": [
        "# 股票数据\n",
        "搜关键字“yahoo stock code list”结果从invest Excel获得2899.HK"
      ]
    },
    {
      "cell_type": "code",
      "metadata": {
        "id": "sFYI8TUU5uQp"
      },
      "source": [
        "import pandas_datareader.data as web\n",
        "start_date = '2019-07-01'\n",
        "end_date = '2019-08-25'\n",
        "apple=web.get_data_yahoo('2899.HK',start_date,end_date)\n",
        "apple\n",
        "#apple.head(300)"
      ],
      "execution_count": null,
      "outputs": []
    }
  ]
}