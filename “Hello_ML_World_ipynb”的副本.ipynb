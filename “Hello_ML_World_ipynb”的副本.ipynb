{
  "nbformat": 4,
  "nbformat_minor": 0,
  "metadata": {
    "colab": {
      "name": "“Hello-ML-World.ipynb”的副本",
      "provenance": [],
      "collapsed_sections": [],
      "include_colab_link": true
    },
    "kernelspec": {
      "name": "python3",
      "display_name": "Python 3"
    }
  },
  "cells": [
    {
      "cell_type": "markdown",
      "metadata": {
        "id": "view-in-github",
        "colab_type": "text"
      },
      "source": [
        "<a href=\"https://colab.research.google.com/github/zhangyiluo/pythoncode/blob/master/%E2%80%9CHello_ML_World_ipynb%E2%80%9D%E7%9A%84%E5%89%AF%E6%9C%AC.ipynb\" target=\"_parent\"><img src=\"https://colab.research.google.com/assets/colab-badge.svg\" alt=\"Open In Colab\"/></a>"
      ]
    },
    {
      "metadata": {
        "id": "ZIAkIlfmCe1B"
      },
      "cell_type": "markdown",
      "source": [
        "# 最简单的神经网络"
      ]
    },
    {
      "metadata": {
        "id": "fA93WUy1zzWf"
      },
      "cell_type": "markdown",
      "source": [
        "知道一个数和一个数的集合。不知道**关系**。 \n",
        "\n",
        "\n",
        "```\n",
        "float my_function(float x){\n",
        "    float y = (3 * x) + 1;\n",
        "    return y;\n",
        "}\n",
        "```\n",
        "\n",
        "训练多次后，会猜中其中的**关系**。\n"
      ]
    },
    {
      "metadata": {
        "id": "X9uIpOS2zx7k"
      },
      "cell_type": "code",
      "source": [
        "import tensorflow as tf\n",
        "import numpy as np\n",
        "from tensorflow import keras"
      ],
      "execution_count": null,
      "outputs": []
    },
    {
      "metadata": {
        "id": "wwJGmDrQ0EoB"
      },
      "cell_type": "markdown",
      "source": [
        "## 定义神经网络。布局神经网络\n"
      ]
    },
    {
      "metadata": {
        "id": "kQFAr_xo0M4T"
      },
      "cell_type": "code",
      "source": [
        "model = tf.keras.Sequential([keras.layers.Dense(units=1, input_shape=[1])])"
      ],
      "execution_count": null,
      "outputs": []
    },
    {
      "metadata": {
        "id": "KhjZjZ-c0Ok9"
      },
      "cell_type": "markdown",
      "source": [
        "* Sequential 顺序的\n",
        "* Dense 稠密。象征神经的稠密\n",
        "* losse 损失函数\n",
        "* optimizer 优化函数\n",
        "* units=1 输出一个神经元。iput_shape输入也是一个数据\n",
        "* EPOCHS 批次\n",
        "* sgd 随机梯度\n",
        "* mean_squared_error "
      ]
    },
    {
      "metadata": {
        "id": "m8YQN1H41L-Y"
      },
      "cell_type": "code",
      "source": [
        "model.compile(optimizer='sgd', loss='mean_squared_error')"
      ],
      "execution_count": null,
      "outputs": []
    },
    {
      "metadata": {
        "id": "5QyOUhFw1OUX"
      },
      "cell_type": "markdown",
      "source": [
        "## 提供数据\n",
        "\n"
      ]
    },
    {
      "metadata": {
        "id": "4Dxk4q-jzEy4"
      },
      "cell_type": "code",
      "source": [
        "xs = np.array([-1.0, 0.0, 1.0, 2.0, 3.0, 4.0], dtype=float)\n",
        "ys = np.array([-2.0, 1.0, 4.0, 7.0, 10.0, 13.0], dtype=float)"
      ],
      "execution_count": null,
      "outputs": []
    },
    {
      "metadata": {
        "id": "n_YcWRElnM_b"
      },
      "cell_type": "markdown",
      "source": [
        "# 训练神经网络\n",
        "\n",
        "操fit神经网络，500批次。\n",
        "\n"
      ]
    },
    {
      "metadata": {
        "id": "lpRrl7WK10Pq"
      },
      "cell_type": "code",
      "source": [
        "model.fit(xs, ys, epochs=500)"
      ],
      "execution_count": null,
      "outputs": []
    },
    {
      "cell_type": "markdown",
      "source": [
        "# 新段落"
      ],
      "metadata": {
        "id": "kWSt-6NyF-X8"
      }
    },
    {
      "metadata": {
        "id": "kaFIr71H2OZ-"
      },
      "cell_type": "markdown",
      "source": [
        "Ok, now you have a model that has been trained to learn the relationshop between X and Y. You can use the **model.predict** method to have it figure out the Y for a previously unknown X. So, for example, if X = 10, what do you think Y will be? Take a guess before you run this code:"
      ]
    },
    {
      "metadata": {
        "id": "oxNzL4lS2Gui",
        "colab": {
          "base_uri": "https://localhost:8080/"
        },
        "outputId": "51215973-26f3-4884-98f6-081f4cfea5fb"
      },
      "cell_type": "code",
      "source": [
        "print(model.predict([10.0]))"
      ],
      "execution_count": null,
      "outputs": [
        {
          "output_type": "stream",
          "name": "stdout",
          "text": [
            "[[31.005407]]\n"
          ]
        }
      ]
    },
    {
      "metadata": {
        "id": "btF2CSFH2iEX"
      },
      "cell_type": "markdown",
      "source": [
        "predict 预判"
      ]
    }
  ]
}