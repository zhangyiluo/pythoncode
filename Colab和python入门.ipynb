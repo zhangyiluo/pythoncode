{
  "cells": [
    {
      "cell_type": "markdown",
      "metadata": {
        "colab_type": "text",
        "id": "view-in-github"
      },
      "source": [
        "<a href=\"https://colab.research.google.com/github/zhangyiluo/pythoncode/blob/master/Colab%E5%92%8Cpython%E5%85%A5%E9%97%A8.ipynb\" target=\"_parent\"><img src=\"https://colab.research.google.com/assets/colab-badge.svg\" alt=\"Open In Colab\"/></a>"
      ]
    },
    {
      "cell_type": "code",
      "execution_count": null,
      "metadata": {
        "id": "6xSggrwSVC1R"
      },
      "outputs": [],
      "source": [
        "入门看的官网 https://colab.research.google.com/"
      ]
    },
    {
      "cell_type": "code",
      "execution_count": null,
      "metadata": {
        "colab": {
          "base_uri": "https://localhost:8080/",
          "height": 340
        },
        "id": "PTR39GgvWhWz",
        "outputId": "f0745110-0dd6-4247-b03b-53959da7bc6c"
      },
      "outputs": [],
      "source": [
        "from google.colab import drive\n",
        "drive.mount('/content/drive')"
      ]
    },
    {
      "cell_type": "markdown",
      "metadata": {
        "id": "OUobFnksyCVv"
      },
      "source": [
        "#Python 之禅"
      ]
    },
    {
      "cell_type": "code",
      "execution_count": 2,
      "metadata": {
        "colab": {
          "base_uri": "https://localhost:8080/"
        },
        "id": "LoR_hbt0wXXV",
        "outputId": "7958c0a1-1f5d-421b-bf81-4dcc74a115e2"
      },
      "outputs": [
        {
          "name": "stdout",
          "output_type": "stream",
          "text": [
            "The Zen of Python, by Tim Peters\n",
            "\n",
            "Beautiful is better than ugly.\n",
            "Explicit is better than implicit.\n",
            "Simple is better than complex.\n",
            "Complex is better than complicated.\n",
            "Flat is better than nested.\n",
            "Sparse is better than dense.\n",
            "Readability counts.\n",
            "Special cases aren't special enough to break the rules.\n",
            "Although practicality beats purity.\n",
            "Errors should never pass silently.\n",
            "Unless explicitly silenced.\n",
            "In the face of ambiguity, refuse the temptation to guess.\n",
            "There should be one-- and preferably only one --obvious way to do it.\n",
            "Although that way may not be obvious at first unless you're Dutch.\n",
            "Now is better than never.\n",
            "Although never is often better than *right* now.\n",
            "If the implementation is hard to explain, it's a bad idea.\n",
            "If the implementation is easy to explain, it may be a good idea.\n",
            "Namespaces are one honking great idea -- let's do more of those!\n"
          ]
        }
      ],
      "source": [
        "import this # 显示的正是python之禅"
      ]
    },
    {
      "cell_type": "code",
      "execution_count": 3,
      "metadata": {
        "colab": {
          "base_uri": "https://localhost:8080/"
        },
        "id": "tQCXMNJDSLfy",
        "outputId": "d515dffe-b1da-45d1-8d1d-988436100956"
      },
      "outputs": [
        {
          "name": "stdout",
          "output_type": "stream",
          "text": [
            "sample_data\n",
            "root\n",
            "Linux version 5.4.188+ (builder@09ba2ac4aaef) (Chromium OS 12.0_pre408248_p20201125-r7 clang version 12.0.0 (/var/tmp/portage/sys-devel/llvm-12.0_pre408248_p20201125-r7/work/llvm-12.0_pre408248_p20201125/clang f402e682d0ef5598eeffc9a21a691b03e602ff58)) #1 SMP Sun Apr 24 10:03:06 PDT 2022\n",
            "Linux bea698e15804 5.4.188+ #1 SMP Sun Apr 24 10:03:06 PDT 2022 x86_64 x86_64 x86_64 GNU/Linux\n",
            "5.4.188+\n",
            "Ubuntu 18.04.5 LTS \\n \\l\n",
            "\n",
            "DISTRIB_ID=Ubuntu\n",
            "DISTRIB_RELEASE=18.04\n",
            "DISTRIB_CODENAME=bionic\n",
            "DISTRIB_DESCRIPTION=\"Ubuntu 18.04.5 LTS\"\n",
            "No LSB modules are available.\n",
            "Distributor ID:\tUbuntu\n",
            "Description:\tUbuntu 18.04.5 LTS\n",
            "Release:\t18.04\n",
            "Codename:\tbionic\n"
          ]
        }
      ],
      "source": [
        "#检查云端机的系统是什么和有什么\n",
        "!ls\n",
        "!whoami\n",
        "#一、查看Linux内核版本信息\n",
        "#方法1：登陆Linux，在终端输入cat /proc/version\n",
        "!cat /proc/version\n",
        "#方法2：登陆Linux，在终端输入\n",
        "!uname -a\n",
        "#方法3：登陆Linux，在终端输入\n",
        "!uname -r\n",
        "#二、查看Linux系统版本信息 ...\n",
        "#方法1：登陆Linux，在终端输入 cat /etc/issue\n",
        "!cat /etc/issue\n",
        "#方法2：登陆Linux，在终端输入\n",
        "!cat /etc/lsb-release\n",
        "#方法3：登陆Linux，在终端输入 lsb_release -a\n",
        "!lsb_release -a"
      ]
    },
    {
      "attachments": {},
      "cell_type": "markdown",
      "metadata": {
        "id": "C2Pvhe9CVGlK"
      },
      "source": [
        "只要是ipynb就是直接起了一个云端虚拟机，默认是Ubuntu系统。"
      ]
    },
    {
      "cell_type": "markdown",
      "metadata": {
        "id": "fMzavZFeVHDy"
      },
      "source": []
    },
    {
      "cell_type": "markdown",
      "metadata": {
        "id": "NcaYqpS1T9pl"
      },
      "source": [
        "可以调用相机吗？果然被你想到了。网页当然是不能调用本地资源的。还是老老实实像Jupiter坐的那样调用网络资源好。"
      ]
    }
  ],
  "metadata": {
    "colab": {
      "authorship_tag": "ABX9TyO2OfdUJoOUBlKcFt/Jr7h/",
      "collapsed_sections": [],
      "include_colab_link": true,
      "name": "Colab和python入门.ipynb",
      "provenance": []
    },
    "kernelspec": {
      "display_name": "Python 3",
      "name": "python3"
    },
    "language_info": {
      "name": "python"
    }
  },
  "nbformat": 4,
  "nbformat_minor": 0
}
